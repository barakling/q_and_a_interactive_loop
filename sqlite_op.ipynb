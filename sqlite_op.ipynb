{
  "cells": [
    {
      "cell_type": "code",
      "execution_count": 1,
      "id": "11eb33d7",
      "metadata": {},
      "outputs": [],
      "source": [
        "import sqlite3\n",
        "\n",
        "# Connect to the SQLite database file\n",
        "connection = sqlite3.connect('db.sqlite3')\n",
        "\n",
        "# Create a cursor object to execute SQL queries\n",
        "cursor = connection.cursor()"
      ]
    },
    {
      "cell_type": "code",
      "execution_count": 3,
      "id": "44f75a3e",
      "metadata": {},
      "outputs": [
        {
          "name": "stdout",
          "output_type": "stream",
          "text": [
            "(0, 'id', 'INTEGER', 1, None, 1)\n",
            "(1, 'text', 'VARCHAR(255)', 0, None, 0)\n",
            "(2, 'search_text', 'VARCHAR(255)', 1, \"''\", 0)\n",
            "(3, 'conversation', 'VARCHAR(32)', 1, \"''\", 0)\n",
            "(4, 'created_at', 'DATETIME', 0, 'CURRENT_TIMESTAMP', 0)\n",
            "(5, 'in_response_to', 'VARCHAR(255)', 0, None, 0)\n",
            "(6, 'search_in_response_to', 'VARCHAR(255)', 1, \"''\", 0)\n",
            "(7, 'persona', 'VARCHAR(50)', 1, \"''\", 0)\n"
          ]
        }
      ],
      "source": [
        "cursor.execute('PRAGMA table_info (statement)')\n",
        "results = cursor.fetchall()\n",
        "for row in results:\n",
        "    print(row)"
      ]
    },
    {
      "cell_type": "code",
      "execution_count": null,
      "id": "7ddd9cc6",
      "metadata": {},
      "outputs": [],
      "source": [
        "cursor.execute(\"SELECT * FROM statement\")\n",
        "# Fetch the results\n",
        "results = cursor.fetchall()\n",
        "\n",
        "# Process the results\n",
        "for row in results:\n",
        "    print(row)"
      ]
    },
    {
      "cell_type": "code",
      "execution_count": 5,
      "id": "69ebf8df",
      "metadata": {},
      "outputs": [],
      "source": [
        "condition = \"conversation = ?\"  # Condition: conversation = 'training'\n",
        "cursor.execute(\"SELECT * FROM statement WHERE \" + condition, ('training',))\n",
        "\n",
        "# Fetch the results\n",
        "results = cursor.fetchall()\n",
        "\n",
        "# Process the results\n",
        "for row in results:\n",
        "    print(row)\n"
      ]
    },
    {
      "cell_type": "code",
      "execution_count": 13,
      "id": "ffad5aa9",
      "metadata": {},
      "outputs": [],
      "source": [
        "# Close the cursor and the connection\n",
        "cursor.close()\n",
        "connection.close()\n"
      ]
    }
  ],
  "metadata": {
    "colab": {
      "provenance": []
    },
    "kernelspec": {
      "display_name": "venv",
      "language": "python",
      "name": "python3"
    },
    "language_info": {
      "codemirror_mode": {
        "name": "ipython",
        "version": 3
      },
      "file_extension": ".py",
      "mimetype": "text/x-python",
      "name": "python",
      "nbconvert_exporter": "python",
      "pygments_lexer": "ipython3",
      "version": "3.9.13"
    }
  },
  "nbformat": 4,
  "nbformat_minor": 5
}
